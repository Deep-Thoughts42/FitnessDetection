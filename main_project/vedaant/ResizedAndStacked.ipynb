{
 "metadata": {
  "language_info": {
   "codemirror_mode": {
    "name": "ipython",
    "version": 3
   },
   "file_extension": ".py",
   "mimetype": "text/x-python",
   "name": "python",
   "nbconvert_exporter": "python",
   "pygments_lexer": "ipython3",
   "version": "3.9.1"
  },
  "orig_nbformat": 2,
  "kernelspec": {
   "name": "pythonjvsc74a57bd0b5db572c79d559b28741e606fac0af53cde90e61ea30a809b9f0b1c593485671",
   "display_name": "Python 3.9.1  ('venv': venv)"
  },
  "metadata": {
   "interpreter": {
    "hash": "b5db572c79d559b28741e606fac0af53cde90e61ea30a809b9f0b1c593485671"
   }
  }
 },
 "nbformat": 4,
 "nbformat_minor": 2,
 "cells": [
  {
   "cell_type": "code",
   "execution_count": 1,
   "metadata": {},
   "outputs": [],
   "source": [
    "import os\n",
    "import cv2\n",
    "import numpy as np\n",
    "import matplotlib.pyplot as plt\n",
    "\n",
    "%matplotlib inline"
   ]
  },
  {
   "cell_type": "code",
   "execution_count": 2,
   "metadata": {},
   "outputs": [
    {
     "output_type": "execute_result",
     "data": {
      "text/plain": [
       "'d:\\\\PythonProjects\\\\ComputerVisionLearning'"
      ]
     },
     "metadata": {},
     "execution_count": 2
    }
   ],
   "source": [
    "os.chdir('d:\\PythonProjects\\ComputerVisionLearning')\n",
    "curDir = os.getcwd()\n",
    "\n",
    "curDir"
   ]
  },
  {
   "cell_type": "code",
   "execution_count": 3,
   "metadata": {},
   "outputs": [],
   "source": [
    "image_path = os.path.join(curDir, 'main_project', 'Udi',  'BackgroundExtract_Udi')\n",
    "\n",
    "image_list = os.listdir(image_path)"
   ]
  },
  {
   "cell_type": "code",
   "execution_count": 4,
   "metadata": {},
   "outputs": [],
   "source": [
    "new_list = []\n",
    "previous = image_list[0].split('I')[0]\n",
    "temp_list = []\n",
    "\n",
    "for image in image_list:\n",
    "    set_no = image.split('I')[0]\n",
    "    if set_no == previous:\n",
    "        temp_list.append(image)\n",
    "        previous = set_no\n",
    "    else:\n",
    "        new_list.append(temp_list)\n",
    "        temp_list = []\n",
    "        temp_list.append(image)\n",
    "        previous = set_no\n",
    "\n",
    "\n",
    "\n"
   ]
  },
  {
   "cell_type": "code",
   "execution_count": 6,
   "metadata": {},
   "outputs": [
    {
     "output_type": "stream",
     "name": "stdout",
     "text": [
      "0\n",
      "1\n",
      "2\n"
     ]
    }
   ],
   "source": []
  },
  {
   "cell_type": "code",
   "execution_count": 8,
   "metadata": {},
   "outputs": [
    {
     "output_type": "stream",
     "name": "stdout",
     "text": [
      "(160, 20)\n(160, 20)\n(160, 20)\n(160, 20)\n(160, 20)\n(160, 20)\n"
     ]
    }
   ],
   "source": [
    "from PIL import Image\n",
    "new_dims = (20, 20)\n",
    "i=0\n",
    "for image_set in new_list:\n",
    "    \n",
    "    full_array = np.zeros([20*8, 20])\n",
    "    set_path = os.path.join(curDir, 'main_project', 'Udi', 'VedaantTempTestStacked', f'Set{i}.png')\n",
    "    i += 1\n",
    "    for value, image in enumerate(image_set):\n",
    "        # print(value, image)\n",
    "\n",
    "        img = cv2.imread(os.path.join(image_path, image))\n",
    "        resized = cv2.resize(img, new_dims)\n",
    "        resized = cv2.cvtColor(resized, cv2.COLOR_BGR2GRAY)\n",
    "        retval, binary = cv2.threshold(resized, 1, 255, cv2.THRESH_BINARY)\n",
    "\n",
    "        lower_bound = value*20\n",
    "        upper_bound = ((value+1)*20)\n",
    "\n",
    "        # plt.imshow(cv2.cvtColor(binary, cv2.COLOR_BGR2RGB))\n",
    "        # plt.show()\n",
    "\n",
    "        full_array[lower_bound:upper_bound, :] = binary\n",
    "\n",
    "    # plt.imshow(full_array)\n",
    "    # plt.show()  \n",
    "    print(full_array.shape)\n",
    "\n",
    "    cv2.imwrite(set_path ,full_array)\n",
    "    \n",
    "       \n",
    "\n",
    "    \n",
    "\n",
    "    \n",
    "\n",
    "\n",
    "\n",
    "\n",
    "\n"
   ]
  },
  {
   "cell_type": "code",
   "execution_count": null,
   "metadata": {},
   "outputs": [],
   "source": []
  }
 ]
}