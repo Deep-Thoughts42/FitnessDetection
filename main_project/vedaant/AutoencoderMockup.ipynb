{
 "metadata": {
  "language_info": {
   "codemirror_mode": {
    "name": "ipython",
    "version": 3
   },
   "file_extension": ".py",
   "mimetype": "text/x-python",
   "name": "python",
   "nbconvert_exporter": "python",
   "pygments_lexer": "ipython3",
   "version": "3.9.1"
  },
  "orig_nbformat": 2,
  "kernelspec": {
   "name": "python3",
   "display_name": "Python 3.9.1 64-bit ('venv': venv)",
   "metadata": {
    "interpreter": {
     "hash": "b5db572c79d559b28741e606fac0af53cde90e61ea30a809b9f0b1c593485671"
    }
   }
  }
 },
 "nbformat": 4,
 "nbformat_minor": 2,
 "cells": [
  {
   "source": [
    "### Imports"
   ],
   "cell_type": "markdown",
   "metadata": {}
  },
  {
   "cell_type": "code",
   "execution_count": 91,
   "metadata": {},
   "outputs": [],
   "source": [
    "import torch\n",
    "import pandas as pd\n",
    "from torchvision import transforms\n",
    "from torchvision.transforms import ToTensor, Lambda\n",
    "from torch.utils.data import Dataset\n",
    "from torch.utils.data import DataLoader\n",
    "from torchvision import datasets\n",
    "import torchvision\n",
    "from torchvision.io import read_image\n",
    "import torch.nn as nn\n",
    "import torch.optim as optim\n",
    "import torch.nn.functional as F\n",
    "from torchvision.utils import save_image\n",
    "from PIL import Image\n",
    "\n",
    "\n",
    "import matplotlib.pyplot as plt\n",
    "import os\n",
    "import numpy as np\n",
    "\n",
    "%matplotlib inline"
   ]
  },
  {
   "source": [
    "### General Dataset Code\n",
    "Contains all the code required to create and run dataset"
   ],
   "cell_type": "markdown",
   "metadata": {}
  },
  {
   "cell_type": "code",
   "execution_count": 2,
   "metadata": {},
   "outputs": [],
   "source": [
    "os.chdir('d:\\PythonProjects\\ComputerVisionLearning')\n",
    "cur_dir = os.getcwd()\n",
    "\n",
    "image_path = os.path.join(cur_dir, 'images', 'StackedSetsRaw')\n",
    "\n",
    "image_list = os.listdir(image_path)"
   ]
  },
  {
   "cell_type": "code",
   "execution_count": 75,
   "metadata": {},
   "outputs": [],
   "source": [
    "class CustomDataset(Dataset):\n",
    "    def __init__(self, annotations_file, img_dir, transform=None, target_transform=None):\n",
    "        self.img_labels = pd.read_csv(annotations_file)\n",
    "        self.img_dir = img_dir\n",
    "        self.transform = transform\n",
    "        self.target_transform = target_transform\n",
    "    \n",
    "    def __len__(self):\n",
    "        return len(self.img_labels)\n",
    "    \n",
    "    def __getitem__(self, idx):\n",
    "        img_path = os.path.join(self.img_dir, self.img_labels.iloc[idx, 0])\n",
    "        image = torchvision.io.image.read_image(img_path)\n",
    "        # Simple normalization from 0 to 1\n",
    "        image[image!=0] = 1\n",
    "        label = self.img_labels.iloc[idx, 1]\n",
    "        if self.transform:\n",
    "            image = self.transform(image)\n",
    "        if self.target_transform:\n",
    "            label = self.target_transform(label)\n",
    "\n",
    "        sample = (image, label)\n",
    "        return sample "
   ]
  },
  {
   "cell_type": "code",
   "execution_count": 28,
   "metadata": {},
   "outputs": [],
   "source": [
    "annotations_file = os.path.join(cur_dir, \"main_project\", 'vedaant', 'data_labels.csv')\n",
    "img_dir = os.path.join(cur_dir, 'images', 'StackedSetsRaw')\n",
    "\n",
    "dataset = CustomDataset(annotations_file=annotations_file, img_dir=img_dir)"
   ]
  },
  {
   "cell_type": "code",
   "execution_count": 29,
   "metadata": {},
   "outputs": [],
   "source": [
    "def show_image(item):\n",
    "    image = item[0]\n",
    "    label = item[1]\n",
    "    print(f\"Label: {label}\")\n",
    "    img = image[0].squeeze()\n",
    "    plt.imshow(img, cmap='gray')"
   ]
  },
  {
   "cell_type": "code",
   "execution_count": 30,
   "metadata": {},
   "outputs": [],
   "source": [
    "dataset_len = dataset.__len__()\n",
    "\n",
    "train_size = int(0.8*dataset_len)\n",
    "test_size = dataset_len - train_size\n",
    "train_dataset, test_dataset = torch.utils.data.random_split(dataset, [train_size, test_size])"
   ]
  },
  {
   "source": [
    "### Preparing Data for Training"
   ],
   "cell_type": "markdown",
   "metadata": {}
  },
  {
   "cell_type": "code",
   "execution_count": 125,
   "metadata": {},
   "outputs": [],
   "source": [
    "train_dataloader = DataLoader(train_dataset, batch_size=1, shuffle=True)\n",
    "test_dataloader = DataLoader(test_dataset, batch_size=1, shuffle=True)\n",
    "train_features, train_labels = next(iter(train_dataloader))"
   ]
  },
  {
   "source": [
    "#### Testing to ensure everything is working as intended"
   ],
   "cell_type": "markdown",
   "metadata": {}
  },
  {
   "cell_type": "code",
   "execution_count": 126,
   "metadata": {},
   "outputs": [
    {
     "output_type": "stream",
     "name": "stdout",
     "text": [
      "Feature batch shape: torch.Size([1, 1, 160, 20])\nLabels batch shape: torch.Size([1])\n"
     ]
    },
    {
     "output_type": "display_data",
     "data": {
      "text/plain": "<Figure size 432x288 with 1 Axes>",
      "image/svg+xml": "<?xml version=\"1.0\" encoding=\"utf-8\" standalone=\"no\"?>\r\n<!DOCTYPE svg PUBLIC \"-//W3C//DTD SVG 1.1//EN\"\r\n  \"http://www.w3.org/Graphics/SVG/1.1/DTD/svg11.dtd\">\r\n<!-- Created with matplotlib (https://matplotlib.org/) -->\r\n<svg height=\"251.637844pt\" version=\"1.1\" viewBox=\"0 0 67.6675 251.637844\" width=\"67.6675pt\" xmlns=\"http://www.w3.org/2000/svg\" xmlns:xlink=\"http://www.w3.org/1999/xlink\">\r\n <metadata>\r\n  <rdf:RDF xmlns:cc=\"http://creativecommons.org/ns#\" xmlns:dc=\"http://purl.org/dc/elements/1.1/\" xmlns:rdf=\"http://www.w3.org/1999/02/22-rdf-syntax-ns#\">\r\n   <cc:Work>\r\n    <dc:type rdf:resource=\"http://purl.org/dc/dcmitype/StillImage\"/>\r\n    <dc:date>2021-03-27T14:24:49.951650</dc:date>\r\n    <dc:format>image/svg+xml</dc:format>\r\n    <dc:creator>\r\n     <cc:Agent>\r\n      <dc:title>Matplotlib v3.3.4, https://matplotlib.org/</dc:title>\r\n     </cc:Agent>\r\n    </dc:creator>\r\n   </cc:Work>\r\n  </rdf:RDF>\r\n </metadata>\r\n <defs>\r\n  <style type=\"text/css\">*{stroke-linecap:butt;stroke-linejoin:round;}</style>\r\n </defs>\r\n <g id=\"figure_1\">\r\n  <g id=\"patch_1\">\r\n   <path d=\"M 0 251.637844 \r\nL 67.6675 251.637844 \r\nL 67.6675 0 \r\nL 0 0 \r\nz\r\n\" style=\"fill:none;\"/>\r\n  </g>\r\n  <g id=\"axes_1\">\r\n   <g id=\"patch_2\">\r\n    <path d=\"M 33.2875 227.759719 \r\nL 60.4675 227.759719 \r\nL 60.4675 10.319719 \r\nL 33.2875 10.319719 \r\nz\r\n\" style=\"fill:#ffffff;\"/>\r\n   </g>\r\n   <g clip-path=\"url(#pee95a564ad)\">\r\n    <image height=\"218\" id=\"imageaf3c4634fc\" transform=\"scale(1 -1)translate(0 -218)\" width=\"28\" x=\"33.2875\" xlink:href=\"data:image/png;base64,\r\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\" y=\"-9.759719\"/>\r\n   </g>\r\n   <g id=\"matplotlib.axis_1\">\r\n    <g id=\"xtick_1\">\r\n     <g id=\"line2d_1\">\r\n      <defs>\r\n       <path d=\"M 0 0 \r\nL 0 3.5 \r\n\" id=\"m1d91689433\" style=\"stroke:#000000;stroke-width:0.8;\"/>\r\n      </defs>\r\n      <g>\r\n       <use style=\"stroke:#000000;stroke-width:0.8;\" x=\"33.967\" xlink:href=\"#m1d91689433\" y=\"227.759719\"/>\r\n      </g>\r\n     </g>\r\n     <g id=\"text_1\">\r\n      <!-- 0 -->\r\n      <g transform=\"translate(30.78575 242.358156)scale(0.1 -0.1)\">\r\n       <defs>\r\n        <path d=\"M 31.78125 66.40625 \r\nQ 24.171875 66.40625 20.328125 58.90625 \r\nQ 16.5 51.421875 16.5 36.375 \r\nQ 16.5 21.390625 20.328125 13.890625 \r\nQ 24.171875 6.390625 31.78125 6.390625 \r\nQ 39.453125 6.390625 43.28125 13.890625 \r\nQ 47.125 21.390625 47.125 36.375 \r\nQ 47.125 51.421875 43.28125 58.90625 \r\nQ 39.453125 66.40625 31.78125 66.40625 \r\nz\r\nM 31.78125 74.21875 \r\nQ 44.046875 74.21875 50.515625 64.515625 \r\nQ 56.984375 54.828125 56.984375 36.375 \r\nQ 56.984375 17.96875 50.515625 8.265625 \r\nQ 44.046875 -1.421875 31.78125 -1.421875 \r\nQ 19.53125 -1.421875 13.0625 8.265625 \r\nQ 6.59375 17.96875 6.59375 36.375 \r\nQ 6.59375 54.828125 13.0625 64.515625 \r\nQ 19.53125 74.21875 31.78125 74.21875 \r\nz\r\n\" id=\"DejaVuSans-48\"/>\r\n       </defs>\r\n       <use xlink:href=\"#DejaVuSans-48\"/>\r\n      </g>\r\n     </g>\r\n    </g>\r\n    <g id=\"xtick_2\">\r\n     <g id=\"line2d_2\">\r\n      <g>\r\n       <use style=\"stroke:#000000;stroke-width:0.8;\" x=\"47.557\" xlink:href=\"#m1d91689433\" y=\"227.759719\"/>\r\n      </g>\r\n     </g>\r\n     <g id=\"text_2\">\r\n      <!-- 10 -->\r\n      <g transform=\"translate(41.1945 242.358156)scale(0.1 -0.1)\">\r\n       <defs>\r\n        <path d=\"M 12.40625 8.296875 \r\nL 28.515625 8.296875 \r\nL 28.515625 63.921875 \r\nL 10.984375 60.40625 \r\nL 10.984375 69.390625 \r\nL 28.421875 72.90625 \r\nL 38.28125 72.90625 \r\nL 38.28125 8.296875 \r\nL 54.390625 8.296875 \r\nL 54.390625 0 \r\nL 12.40625 0 \r\nz\r\n\" id=\"DejaVuSans-49\"/>\r\n       </defs>\r\n       <use xlink:href=\"#DejaVuSans-49\"/>\r\n       <use x=\"63.623047\" xlink:href=\"#DejaVuSans-48\"/>\r\n      </g>\r\n     </g>\r\n    </g>\r\n   </g>\r\n   <g id=\"matplotlib.axis_2\">\r\n    <g id=\"ytick_1\">\r\n     <g id=\"line2d_3\">\r\n      <defs>\r\n       <path d=\"M 0 0 \r\nL -3.5 0 \r\n\" id=\"m0c26ccdd54\" style=\"stroke:#000000;stroke-width:0.8;\"/>\r\n      </defs>\r\n      <g>\r\n       <use style=\"stroke:#000000;stroke-width:0.8;\" x=\"33.2875\" xlink:href=\"#m0c26ccdd54\" y=\"10.999219\"/>\r\n      </g>\r\n     </g>\r\n     <g id=\"text_3\">\r\n      <!-- 0 -->\r\n      <g transform=\"translate(19.925 14.798437)scale(0.1 -0.1)\">\r\n       <use xlink:href=\"#DejaVuSans-48\"/>\r\n      </g>\r\n     </g>\r\n    </g>\r\n    <g id=\"ytick_2\">\r\n     <g id=\"line2d_4\">\r\n      <g>\r\n       <use style=\"stroke:#000000;stroke-width:0.8;\" x=\"33.2875\" xlink:href=\"#m0c26ccdd54\" y=\"38.179219\"/>\r\n      </g>\r\n     </g>\r\n     <g id=\"text_4\">\r\n      <!-- 20 -->\r\n      <g transform=\"translate(13.5625 41.978437)scale(0.1 -0.1)\">\r\n       <defs>\r\n        <path d=\"M 19.1875 8.296875 \r\nL 53.609375 8.296875 \r\nL 53.609375 0 \r\nL 7.328125 0 \r\nL 7.328125 8.296875 \r\nQ 12.9375 14.109375 22.625 23.890625 \r\nQ 32.328125 33.6875 34.8125 36.53125 \r\nQ 39.546875 41.84375 41.421875 45.53125 \r\nQ 43.3125 49.21875 43.3125 52.78125 \r\nQ 43.3125 58.59375 39.234375 62.25 \r\nQ 35.15625 65.921875 28.609375 65.921875 \r\nQ 23.96875 65.921875 18.8125 64.3125 \r\nQ 13.671875 62.703125 7.8125 59.421875 \r\nL 7.8125 69.390625 \r\nQ 13.765625 71.78125 18.9375 73 \r\nQ 24.125 74.21875 28.421875 74.21875 \r\nQ 39.75 74.21875 46.484375 68.546875 \r\nQ 53.21875 62.890625 53.21875 53.421875 \r\nQ 53.21875 48.921875 51.53125 44.890625 \r\nQ 49.859375 40.875 45.40625 35.40625 \r\nQ 44.1875 33.984375 37.640625 27.21875 \r\nQ 31.109375 20.453125 19.1875 8.296875 \r\nz\r\n\" id=\"DejaVuSans-50\"/>\r\n       </defs>\r\n       <use xlink:href=\"#DejaVuSans-50\"/>\r\n       <use x=\"63.623047\" xlink:href=\"#DejaVuSans-48\"/>\r\n      </g>\r\n     </g>\r\n    </g>\r\n    <g id=\"ytick_3\">\r\n     <g id=\"line2d_5\">\r\n      <g>\r\n       <use style=\"stroke:#000000;stroke-width:0.8;\" x=\"33.2875\" xlink:href=\"#m0c26ccdd54\" y=\"65.359219\"/>\r\n      </g>\r\n     </g>\r\n     <g id=\"text_5\">\r\n      <!-- 40 -->\r\n      <g transform=\"translate(13.5625 69.158437)scale(0.1 -0.1)\">\r\n       <defs>\r\n        <path d=\"M 37.796875 64.3125 \r\nL 12.890625 25.390625 \r\nL 37.796875 25.390625 \r\nz\r\nM 35.203125 72.90625 \r\nL 47.609375 72.90625 \r\nL 47.609375 25.390625 \r\nL 58.015625 25.390625 \r\nL 58.015625 17.1875 \r\nL 47.609375 17.1875 \r\nL 47.609375 0 \r\nL 37.796875 0 \r\nL 37.796875 17.1875 \r\nL 4.890625 17.1875 \r\nL 4.890625 26.703125 \r\nz\r\n\" id=\"DejaVuSans-52\"/>\r\n       </defs>\r\n       <use xlink:href=\"#DejaVuSans-52\"/>\r\n       <use x=\"63.623047\" xlink:href=\"#DejaVuSans-48\"/>\r\n      </g>\r\n     </g>\r\n    </g>\r\n    <g id=\"ytick_4\">\r\n     <g id=\"line2d_6\">\r\n      <g>\r\n       <use style=\"stroke:#000000;stroke-width:0.8;\" x=\"33.2875\" xlink:href=\"#m0c26ccdd54\" y=\"92.539219\"/>\r\n      </g>\r\n     </g>\r\n     <g id=\"text_6\">\r\n      <!-- 60 -->\r\n      <g transform=\"translate(13.5625 96.338437)scale(0.1 -0.1)\">\r\n       <defs>\r\n        <path d=\"M 33.015625 40.375 \r\nQ 26.375 40.375 22.484375 35.828125 \r\nQ 18.609375 31.296875 18.609375 23.390625 \r\nQ 18.609375 15.53125 22.484375 10.953125 \r\nQ 26.375 6.390625 33.015625 6.390625 \r\nQ 39.65625 6.390625 43.53125 10.953125 \r\nQ 47.40625 15.53125 47.40625 23.390625 \r\nQ 47.40625 31.296875 43.53125 35.828125 \r\nQ 39.65625 40.375 33.015625 40.375 \r\nz\r\nM 52.59375 71.296875 \r\nL 52.59375 62.3125 \r\nQ 48.875 64.0625 45.09375 64.984375 \r\nQ 41.3125 65.921875 37.59375 65.921875 \r\nQ 27.828125 65.921875 22.671875 59.328125 \r\nQ 17.53125 52.734375 16.796875 39.40625 \r\nQ 19.671875 43.65625 24.015625 45.921875 \r\nQ 28.375 48.1875 33.59375 48.1875 \r\nQ 44.578125 48.1875 50.953125 41.515625 \r\nQ 57.328125 34.859375 57.328125 23.390625 \r\nQ 57.328125 12.15625 50.6875 5.359375 \r\nQ 44.046875 -1.421875 33.015625 -1.421875 \r\nQ 20.359375 -1.421875 13.671875 8.265625 \r\nQ 6.984375 17.96875 6.984375 36.375 \r\nQ 6.984375 53.65625 15.1875 63.9375 \r\nQ 23.390625 74.21875 37.203125 74.21875 \r\nQ 40.921875 74.21875 44.703125 73.484375 \r\nQ 48.484375 72.75 52.59375 71.296875 \r\nz\r\n\" id=\"DejaVuSans-54\"/>\r\n       </defs>\r\n       <use xlink:href=\"#DejaVuSans-54\"/>\r\n       <use x=\"63.623047\" xlink:href=\"#DejaVuSans-48\"/>\r\n      </g>\r\n     </g>\r\n    </g>\r\n    <g id=\"ytick_5\">\r\n     <g id=\"line2d_7\">\r\n      <g>\r\n       <use style=\"stroke:#000000;stroke-width:0.8;\" x=\"33.2875\" xlink:href=\"#m0c26ccdd54\" y=\"119.719219\"/>\r\n      </g>\r\n     </g>\r\n     <g id=\"text_7\">\r\n      <!-- 80 -->\r\n      <g transform=\"translate(13.5625 123.518437)scale(0.1 -0.1)\">\r\n       <defs>\r\n        <path d=\"M 31.78125 34.625 \r\nQ 24.75 34.625 20.71875 30.859375 \r\nQ 16.703125 27.09375 16.703125 20.515625 \r\nQ 16.703125 13.921875 20.71875 10.15625 \r\nQ 24.75 6.390625 31.78125 6.390625 \r\nQ 38.8125 6.390625 42.859375 10.171875 \r\nQ 46.921875 13.96875 46.921875 20.515625 \r\nQ 46.921875 27.09375 42.890625 30.859375 \r\nQ 38.875 34.625 31.78125 34.625 \r\nz\r\nM 21.921875 38.8125 \r\nQ 15.578125 40.375 12.03125 44.71875 \r\nQ 8.5 49.078125 8.5 55.328125 \r\nQ 8.5 64.0625 14.71875 69.140625 \r\nQ 20.953125 74.21875 31.78125 74.21875 \r\nQ 42.671875 74.21875 48.875 69.140625 \r\nQ 55.078125 64.0625 55.078125 55.328125 \r\nQ 55.078125 49.078125 51.53125 44.71875 \r\nQ 48 40.375 41.703125 38.8125 \r\nQ 48.828125 37.15625 52.796875 32.3125 \r\nQ 56.78125 27.484375 56.78125 20.515625 \r\nQ 56.78125 9.90625 50.3125 4.234375 \r\nQ 43.84375 -1.421875 31.78125 -1.421875 \r\nQ 19.734375 -1.421875 13.25 4.234375 \r\nQ 6.78125 9.90625 6.78125 20.515625 \r\nQ 6.78125 27.484375 10.78125 32.3125 \r\nQ 14.796875 37.15625 21.921875 38.8125 \r\nz\r\nM 18.3125 54.390625 \r\nQ 18.3125 48.734375 21.84375 45.5625 \r\nQ 25.390625 42.390625 31.78125 42.390625 \r\nQ 38.140625 42.390625 41.71875 45.5625 \r\nQ 45.3125 48.734375 45.3125 54.390625 \r\nQ 45.3125 60.0625 41.71875 63.234375 \r\nQ 38.140625 66.40625 31.78125 66.40625 \r\nQ 25.390625 66.40625 21.84375 63.234375 \r\nQ 18.3125 60.0625 18.3125 54.390625 \r\nz\r\n\" id=\"DejaVuSans-56\"/>\r\n       </defs>\r\n       <use xlink:href=\"#DejaVuSans-56\"/>\r\n       <use x=\"63.623047\" xlink:href=\"#DejaVuSans-48\"/>\r\n      </g>\r\n     </g>\r\n    </g>\r\n    <g id=\"ytick_6\">\r\n     <g id=\"line2d_8\">\r\n      <g>\r\n       <use style=\"stroke:#000000;stroke-width:0.8;\" x=\"33.2875\" xlink:href=\"#m0c26ccdd54\" y=\"146.899219\"/>\r\n      </g>\r\n     </g>\r\n     <g id=\"text_8\">\r\n      <!-- 100 -->\r\n      <g transform=\"translate(7.2 150.698437)scale(0.1 -0.1)\">\r\n       <use xlink:href=\"#DejaVuSans-49\"/>\r\n       <use x=\"63.623047\" xlink:href=\"#DejaVuSans-48\"/>\r\n       <use x=\"127.246094\" xlink:href=\"#DejaVuSans-48\"/>\r\n      </g>\r\n     </g>\r\n    </g>\r\n    <g id=\"ytick_7\">\r\n     <g id=\"line2d_9\">\r\n      <g>\r\n       <use style=\"stroke:#000000;stroke-width:0.8;\" x=\"33.2875\" xlink:href=\"#m0c26ccdd54\" y=\"174.079219\"/>\r\n      </g>\r\n     </g>\r\n     <g id=\"text_9\">\r\n      <!-- 120 -->\r\n      <g transform=\"translate(7.2 177.878437)scale(0.1 -0.1)\">\r\n       <use xlink:href=\"#DejaVuSans-49\"/>\r\n       <use x=\"63.623047\" xlink:href=\"#DejaVuSans-50\"/>\r\n       <use x=\"127.246094\" xlink:href=\"#DejaVuSans-48\"/>\r\n      </g>\r\n     </g>\r\n    </g>\r\n    <g id=\"ytick_8\">\r\n     <g id=\"line2d_10\">\r\n      <g>\r\n       <use style=\"stroke:#000000;stroke-width:0.8;\" x=\"33.2875\" xlink:href=\"#m0c26ccdd54\" y=\"201.259219\"/>\r\n      </g>\r\n     </g>\r\n     <g id=\"text_10\">\r\n      <!-- 140 -->\r\n      <g transform=\"translate(7.2 205.058437)scale(0.1 -0.1)\">\r\n       <use xlink:href=\"#DejaVuSans-49\"/>\r\n       <use x=\"63.623047\" xlink:href=\"#DejaVuSans-52\"/>\r\n       <use x=\"127.246094\" xlink:href=\"#DejaVuSans-48\"/>\r\n      </g>\r\n     </g>\r\n    </g>\r\n   </g>\r\n   <g id=\"patch_3\">\r\n    <path d=\"M 33.2875 227.759719 \r\nL 33.2875 10.319719 \r\n\" style=\"fill:none;stroke:#000000;stroke-linecap:square;stroke-linejoin:miter;stroke-width:0.8;\"/>\r\n   </g>\r\n   <g id=\"patch_4\">\r\n    <path d=\"M 60.4675 227.759719 \r\nL 60.4675 10.319719 \r\n\" style=\"fill:none;stroke:#000000;stroke-linecap:square;stroke-linejoin:miter;stroke-width:0.8;\"/>\r\n   </g>\r\n   <g id=\"patch_5\">\r\n    <path d=\"M 33.2875 227.759719 \r\nL 60.4675 227.759719 \r\n\" style=\"fill:none;stroke:#000000;stroke-linecap:square;stroke-linejoin:miter;stroke-width:0.8;\"/>\r\n   </g>\r\n   <g id=\"patch_6\">\r\n    <path d=\"M 33.2875 10.319719 \r\nL 60.4675 10.319719 \r\n\" style=\"fill:none;stroke:#000000;stroke-linecap:square;stroke-linejoin:miter;stroke-width:0.8;\"/>\r\n   </g>\r\n  </g>\r\n </g>\r\n <defs>\r\n  <clipPath id=\"pee95a564ad\">\r\n   <rect height=\"217.44\" width=\"27.18\" x=\"33.2875\" y=\"10.319719\"/>\r\n  </clipPath>\r\n </defs>\r\n</svg>\r\n",
      "image/png": "[encoded data removed]"
     },
     "metadata": {
      "needs_background": "light"
     }
    }
   ],
   "source": [
    "print(f'Feature batch shape: {train_features.size()}')\n",
    "print(f'Labels batch shape: {train_labels.size()}')\n",
    "\n",
    "# Each time this is run, it should display a random image\n",
    "img = train_features[0].squeeze()\n",
    "plt.imshow(img, cmap='gray')\n",
    "plt.show()"
   ]
  },
  {
   "source": [
    "### Defining Network"
   ],
   "cell_type": "markdown",
   "metadata": {}
  },
  {
   "cell_type": "code",
   "execution_count": 127,
   "metadata": {},
   "outputs": [],
   "source": [
    "class Autoencoder(nn.Module):\n",
    "    def __init__(self):\n",
    "        super(Autoencoder, self).__init__()\n",
    "\n",
    "        # Encoder \n",
    "        self.enc1 = nn.Linear(in_features=3200, out_features=600)\n",
    "        self.enc2 = nn.Linear(in_features=600, out_features=200)\n",
    "        self.enc3 = nn.Linear(in_features=200, out_features=100)\n",
    "        self.enc4 = nn.Linear(in_features=100, out_features=32)\n",
    "        self.enc5 = nn.Linear(in_features=32, out_features=16)\n",
    "\n",
    "        # Decoder \n",
    "        self.dec1 = nn.Linear(in_features=16, out_features=32)\n",
    "        self.dec2 = nn.Linear(in_features=32, out_features=100)\n",
    "        self.dec3 = nn.Linear(in_features=100, out_features=200)\n",
    "        self.dec4 = nn.Linear(in_features=200, out_features=600)\n",
    "        self.dec5 = nn.Linear(in_features=600, out_features=3200)\n",
    "    \n",
    "    def forward(self, x):\n",
    "        x = F.relu(self.enc1(x))\n",
    "        x = F.relu(self.enc2(x))\n",
    "        x = F.relu(self.enc3(x))\n",
    "        x = F.relu(self.enc4(x))\n",
    "        x = F.relu(self.enc5(x))\n",
    "\n",
    "        x = F.relu(self.dec1(x))\n",
    "        x = F.relu(self.dec2(x))\n",
    "        x = F.relu(self.dec3(x))\n",
    "        x = F.relu(self.dec4(x))\n",
    "        x = F.relu(self.dec5(x))\n",
    "\n",
    "        return x\n",
    "\n"
   ]
  },
  {
   "cell_type": "code",
   "execution_count": 128,
   "metadata": {},
   "outputs": [
    {
     "output_type": "stream",
     "name": "stdout",
     "text": [
      "Autoencoder(\n  (enc1): Linear(in_features=3200, out_features=600, bias=True)\n  (enc2): Linear(in_features=600, out_features=200, bias=True)\n  (enc3): Linear(in_features=200, out_features=100, bias=True)\n  (enc4): Linear(in_features=100, out_features=32, bias=True)\n  (enc5): Linear(in_features=32, out_features=16, bias=True)\n  (dec1): Linear(in_features=16, out_features=32, bias=True)\n  (dec2): Linear(in_features=32, out_features=100, bias=True)\n  (dec3): Linear(in_features=100, out_features=200, bias=True)\n  (dec4): Linear(in_features=200, out_features=600, bias=True)\n  (dec5): Linear(in_features=600, out_features=3200, bias=True)\n)\n"
     ]
    }
   ],
   "source": [
    "model = Autoencoder()\n",
    "print(model)"
   ]
  },
  {
   "cell_type": "code",
   "execution_count": 132,
   "metadata": {},
   "outputs": [],
   "source": [
    "criterion = nn.MSELoss()\n",
    "optimizer = optim.Adam(model.parameters(), lr=1e-3)"
   ]
  },
  {
   "cell_type": "code",
   "execution_count": 133,
   "metadata": {},
   "outputs": [],
   "source": [
    "def check_device():\n",
    "    if torch.cuda.is_available():\n",
    "        device = 'cuda:0'\n",
    "    else:\n",
    "        device = 'cpu'\n",
    "    return device"
   ]
  },
  {
   "cell_type": "code",
   "execution_count": 134,
   "metadata": {},
   "outputs": [],
   "source": [
    "image_dir = os.path.join(cur_dir, 'images', 'NetworkOutput')\n",
    "def make_dir():\n",
    "    if not os.path.exists(image_dir):\n",
    "        os.makedirs(image_dir)\n",
    "def save_decoded_img(img, epoch):\n",
    "    img = img.view(img.size(0), 1, 160, 20)\n",
    "    save_image(img, os.path.join(image_dir, 'Autoencoder_image{}.png'.format(epoch)))\n"
   ]
  },
  {
   "source": [
    "### Training Model"
   ],
   "cell_type": "markdown",
   "metadata": {}
  },
  {
   "cell_type": "code",
   "execution_count": 135,
   "metadata": {},
   "outputs": [
    {
     "output_type": "execute_result",
     "data": {
      "text/plain": [
       "<torch.utils.data.dataloader.DataLoader at 0x2799dcdb8b0>"
      ]
     },
     "metadata": {},
     "execution_count": 135
    }
   ],
   "source": [
    "train_dataloader"
   ]
  },
  {
   "cell_type": "code",
   "execution_count": 137,
   "metadata": {},
   "outputs": [],
   "source": [
    "epochs = 10\n",
    "\n",
    "def training(model, train_dataloader, epochs):\n",
    "    train_loss = []\n",
    "    for epoch in range(epochs):\n",
    "        running_loss = 0.0\n",
    "        for data in train_dataloader:\n",
    "            img, _ = data\n",
    "            img = img.to(check_device())\n",
    "            img = img.view(img.size(0), -1)\n",
    "            \n",
    "\n",
    "# training(model=model, train_dataloader=train_dataloader, epochs=epochs)\n"
   ]
  }
 ]
}