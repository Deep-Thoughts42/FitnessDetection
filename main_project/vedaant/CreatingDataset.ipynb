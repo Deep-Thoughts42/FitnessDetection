{
 "metadata": {
  "language_info": {
   "codemirror_mode": {
    "name": "ipython",
    "version": 3
   },
   "file_extension": ".py",
   "mimetype": "text/x-python",
   "name": "python",
   "nbconvert_exporter": "python",
   "pygments_lexer": "ipython3",
   "version": "3.9.1"
  },
  "orig_nbformat": 2,
  "kernelspec": {
   "name": "python3",
   "display_name": "Python 3.9.1  ('venv': venv)",
   "metadata": {
    "interpreter": {
     "hash": "b5db572c79d559b28741e606fac0af53cde90e61ea30a809b9f0b1c593485671"
    }
   }
  }
 },
 "nbformat": 4,
 "nbformat_minor": 2,
 "cells": [
  {
   "cell_type": "code",
   "execution_count": 15,
   "metadata": {},
   "outputs": [],
   "source": [
    "import torch\n",
    "import pandas as pd\n",
    "from torchvision.transforms import ToTensor, Lambda\n",
    "from torch.utils.data import Dataset\n",
    "from torch.utils.data import DataLoader\n",
    "from torchvision import datasets\n",
    "import torchvision\n",
    "from torchvision.io import read_image\n",
    "import matplotlib.pyplot as plt\n",
    "import csv\n",
    "import os\n",
    "\n",
    "%matplotlib inline"
   ]
  },
  {
   "cell_type": "code",
   "execution_count": 1,
   "metadata": {},
   "outputs": [],
   "source": [
    "\n",
    "os.chdir('d:\\PythonProjects\\ComputerVisionLearning')\n",
    "cur_dir = os.getcwd()\n",
    "\n",
    "# cur_dir\n"
   ]
  },
  {
   "cell_type": "code",
   "execution_count": 3,
   "metadata": {},
   "outputs": [],
   "source": [
    "image_path = os.path.join(cur_dir, 'images', 'StackedSetsRaw')\n",
    "\n",
    "image_list = os.listdir(image_path)\n"
   ]
  },
  {
   "cell_type": "code",
   "execution_count": 4,
   "metadata": {},
   "outputs": [],
   "source": [
    "\n",
    "# with open('main_project/vedaant/data_labels.csv', 'w', newline='') as file:\n",
    "#     writer = csv.writer(file)\n",
    "#     for image in image_list:\n",
    "#         writer.writerow([image, 1])\n",
    "\n"
   ]
  },
  {
   "cell_type": "code",
   "execution_count": 4,
   "metadata": {},
   "outputs": [],
   "source": [
    "class CustomDataset(Dataset):\n",
    "    def __init__(self, annotations_file, img_dir, transform=None, target_transform=None):\n",
    "        self.img_labels = pd.read_csv(annotations_file)\n",
    "        self.img_dir = img_dir\n",
    "        self.transform = transform\n",
    "        self.target_transform = target_transform\n",
    "    \n",
    "    def __len__(self):\n",
    "        return len(self.img_labels)\n",
    "    \n",
    "    def __getitem__(self, idx):\n",
    "        img_path = os.path.join(self.img_dir, self.img_labels.iloc[idx, 0])\n",
    "        image = torchvision.io.image.read_image(img_path)\n",
    "        label = self.img_labels.iloc[idx, 1]\n",
    "        if self.transform:\n",
    "            image = self.transform(image)\n",
    "        if self.target_transform:\n",
    "            label = self.target_transform(label)\n",
    "\n",
    "        sample = (image, label)\n",
    "        return sample \n",
    "\n",
    "\n"
   ]
  },
  {
   "cell_type": "code",
   "execution_count": 5,
   "metadata": {},
   "outputs": [
    {
     "output_type": "stream",
     "name": "stdout",
     "text": [
      "d:\\PythonProjects\\ComputerVisionLearning\n"
     ]
    }
   ],
   "source": [
    "print(cur_dir)\n",
    "annotations_file = os.path.join(cur_dir, \"main_project\", 'vedaant', 'data_labels.csv')\n",
    "img_dir = os.path.join(cur_dir, 'images', 'StackedSetsRaw')\n",
    "\n",
    "dataset = CustomDataset(annotations_file=annotations_file, img_dir=img_dir)\n"
   ]
  },
  {
   "cell_type": "code",
   "execution_count": 11,
   "metadata": {},
   "outputs": [
    {
     "output_type": "stream",
     "name": "stdout",
     "text": [
      "tensor([[[0, 0, 0,  ..., 0, 0, 0],\n         [0, 0, 0,  ..., 0, 0, 0],\n         [0, 0, 0,  ..., 0, 0, 0],\n         ...,\n         [0, 0, 0,  ..., 0, 0, 0],\n         [0, 0, 0,  ..., 0, 0, 0],\n         [0, 0, 0,  ..., 0, 0, 0]]], dtype=torch.uint8)\n"
     ]
    }
   ],
   "source": [
    "test = dataset.__getitem__(0)\n",
    "\n",
    "print(dataset[0][0])\n",
    "\n",
    "def show_image(item):\n",
    "    image = item[0]\n",
    "    label = item[1]\n",
    "    print(f\"Label: {label}\")\n",
    "    img = image[0].squeeze()\n",
    "    plt.imshow(img, cmap='gray')\n",
    "\n",
    "# show_image(dataset[0])\n",
    "\n",
    "dataset_len = dataset.__len__()\n",
    "\n",
    "train_size = int(0.8*dataset_len)\n",
    "test_size = dataset_len - train_size\n",
    "train_dataset, test_dataset = torch.utils.data.random_split(dataset, [train_size, test_size])\n",
    "\n"
   ]
  },
  {
   "cell_type": "code",
   "execution_count": 13,
   "metadata": {},
   "outputs": [
    {
     "output_type": "stream",
     "name": "stdout",
     "text": [
      "55\n14\n"
     ]
    }
   ],
   "source": [
    "print(train_dataset.__len__())\n",
    "print(test_dataset.__len__())"
   ]
  },
  {
   "source": [
    "## Preparing data for training"
   ],
   "cell_type": "markdown",
   "metadata": {}
  },
  {
   "cell_type": "code",
   "execution_count": 16,
   "metadata": {},
   "outputs": [],
   "source": [
    "train_dataloader = DataLoader(train_dataset, batch_size=3, shuffle=True)\n",
    "test_dataloader = DataLoader(test_dataset, batch_size=3, shuffle=True)"
   ]
  },
  {
   "cell_type": "code",
   "execution_count": 67,
   "metadata": {},
   "outputs": [
    {
     "output_type": "stream",
     "name": "stdout",
     "text": [
      "Feature batch shape: torch.Size([3, 1, 160, 20])\nLabels batch shape: torch.Size([3])\n"
     ]
    },
    {
     "output_type": "display_data",
     "data": {
      "text/plain": "<Figure size 432x288 with 1 Axes>",
      "image/svg+xml": "<?xml version=\"1.0\" encoding=\"utf-8\" standalone=\"no\"?>\r\n<!DOCTYPE svg PUBLIC \"-//W3C//DTD SVG 1.1//EN\"\r\n  \"http://www.w3.org/Graphics/SVG/1.1/DTD/svg11.dtd\">\r\n<!-- Created with matplotlib (https://matplotlib.org/) -->\r\n<svg height=\"251.637844pt\" version=\"1.1\" viewBox=\"0 0 67.6675 251.637844\" width=\"67.6675pt\" xmlns=\"http://www.w3.org/2000/svg\" xmlns:xlink=\"http://www.w3.org/1999/xlink\">\r\n <metadata>\r\n  <rdf:RDF xmlns:cc=\"http://creativecommons.org/ns#\" xmlns:dc=\"http://purl.org/dc/elements/1.1/\" xmlns:rdf=\"http://www.w3.org/1999/02/22-rdf-syntax-ns#\">\r\n   <cc:Work>\r\n    <dc:type rdf:resource=\"http://purl.org/dc/dcmitype/StillImage\"/>\r\n    <dc:date>2021-03-27T13:28:58.990069</dc:date>\r\n    <dc:format>image/svg+xml</dc:format>\r\n    <dc:creator>\r\n     <cc:Agent>\r\n      <dc:title>Matplotlib v3.3.4, https://matplotlib.org/</dc:title>\r\n     </cc:Agent>\r\n    </dc:creator>\r\n   </cc:Work>\r\n  </rdf:RDF>\r\n </metadata>\r\n <defs>\r\n  <style type=\"text/css\">*{stroke-linecap:butt;stroke-linejoin:round;}</style>\r\n </defs>\r\n <g id=\"figure_1\">\r\n  <g id=\"patch_1\">\r\n   <path d=\"M 0 251.637844 \r\nL 67.6675 251.637844 \r\nL 67.6675 0 \r\nL 0 0 \r\nz\r\n\" style=\"fill:none;\"/>\r\n  </g>\r\n  <g id=\"axes_1\">\r\n   <g id=\"patch_2\">\r\n    <path d=\"M 33.2875 227.759719 \r\nL 60.4675 227.759719 \r\nL 60.4675 10.319719 \r\nL 33.2875 10.319719 \r\nz\r\n\" style=\"fill:#ffffff;\"/>\r\n   </g>\r\n   <g clip-path=\"url(#p0598bb2f32)\">\r\n    <image height=\"218\" id=\"image70a0319f94\" transform=\"scale(1 -1)translate(0 -218)\" width=\"28\" x=\"33.2875\" xlink:href=\"data:image/png;base64,\r\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\" y=\"-9.759719\"/>\r\n   </g>\r\n   <g id=\"matplotlib.axis_1\">\r\n    <g id=\"xtick_1\">\r\n     <g id=\"line2d_1\">\r\n      <defs>\r\n       <path d=\"M 0 0 \r\nL 0 3.5 \r\n\" id=\"mc280c0956c\" style=\"stroke:#000000;stroke-width:0.8;\"/>\r\n      </defs>\r\n      <g>\r\n       <use style=\"stroke:#000000;stroke-width:0.8;\" x=\"33.967\" xlink:href=\"#mc280c0956c\" y=\"227.759719\"/>\r\n      </g>\r\n     </g>\r\n     <g id=\"text_1\">\r\n      <!-- 0 -->\r\n      <g transform=\"translate(30.78575 242.358156)scale(0.1 -0.1)\">\r\n       <defs>\r\n        <path d=\"M 31.78125 66.40625 \r\nQ 24.171875 66.40625 20.328125 58.90625 \r\nQ 16.5 51.421875 16.5 36.375 \r\nQ 16.5 21.390625 20.328125 13.890625 \r\nQ 24.171875 6.390625 31.78125 6.390625 \r\nQ 39.453125 6.390625 43.28125 13.890625 \r\nQ 47.125 21.390625 47.125 36.375 \r\nQ 47.125 51.421875 43.28125 58.90625 \r\nQ 39.453125 66.40625 31.78125 66.40625 \r\nz\r\nM 31.78125 74.21875 \r\nQ 44.046875 74.21875 50.515625 64.515625 \r\nQ 56.984375 54.828125 56.984375 36.375 \r\nQ 56.984375 17.96875 50.515625 8.265625 \r\nQ 44.046875 -1.421875 31.78125 -1.421875 \r\nQ 19.53125 -1.421875 13.0625 8.265625 \r\nQ 6.59375 17.96875 6.59375 36.375 \r\nQ 6.59375 54.828125 13.0625 64.515625 \r\nQ 19.53125 74.21875 31.78125 74.21875 \r\nz\r\n\" id=\"DejaVuSans-48\"/>\r\n       </defs>\r\n       <use xlink:href=\"#DejaVuSans-48\"/>\r\n      </g>\r\n     </g>\r\n    </g>\r\n    <g id=\"xtick_2\">\r\n     <g id=\"line2d_2\">\r\n      <g>\r\n       <use style=\"stroke:#000000;stroke-width:0.8;\" x=\"47.557\" xlink:href=\"#mc280c0956c\" y=\"227.759719\"/>\r\n      </g>\r\n     </g>\r\n     <g id=\"text_2\">\r\n      <!-- 10 -->\r\n      <g transform=\"translate(41.1945 242.358156)scale(0.1 -0.1)\">\r\n       <defs>\r\n        <path d=\"M 12.40625 8.296875 \r\nL 28.515625 8.296875 \r\nL 28.515625 63.921875 \r\nL 10.984375 60.40625 \r\nL 10.984375 69.390625 \r\nL 28.421875 72.90625 \r\nL 38.28125 72.90625 \r\nL 38.28125 8.296875 \r\nL 54.390625 8.296875 \r\nL 54.390625 0 \r\nL 12.40625 0 \r\nz\r\n\" id=\"DejaVuSans-49\"/>\r\n       </defs>\r\n       <use xlink:href=\"#DejaVuSans-49\"/>\r\n       <use x=\"63.623047\" xlink:href=\"#DejaVuSans-48\"/>\r\n      </g>\r\n     </g>\r\n    </g>\r\n   </g>\r\n   <g id=\"matplotlib.axis_2\">\r\n    <g id=\"ytick_1\">\r\n     <g id=\"line2d_3\">\r\n      <defs>\r\n       <path d=\"M 0 0 \r\nL -3.5 0 \r\n\" id=\"mc60cd3e00e\" style=\"stroke:#000000;stroke-width:0.8;\"/>\r\n      </defs>\r\n      <g>\r\n       <use style=\"stroke:#000000;stroke-width:0.8;\" x=\"33.2875\" xlink:href=\"#mc60cd3e00e\" y=\"10.999219\"/>\r\n      </g>\r\n     </g>\r\n     <g id=\"text_3\">\r\n      <!-- 0 -->\r\n      <g transform=\"translate(19.925 14.798437)scale(0.1 -0.1)\">\r\n       <use xlink:href=\"#DejaVuSans-48\"/>\r\n      </g>\r\n     </g>\r\n    </g>\r\n    <g id=\"ytick_2\">\r\n     <g id=\"line2d_4\">\r\n      <g>\r\n       <use style=\"stroke:#000000;stroke-width:0.8;\" x=\"33.2875\" xlink:href=\"#mc60cd3e00e\" y=\"38.179219\"/>\r\n      </g>\r\n     </g>\r\n     <g id=\"text_4\">\r\n      <!-- 20 -->\r\n      <g transform=\"translate(13.5625 41.978437)scale(0.1 -0.1)\">\r\n       <defs>\r\n        <path d=\"M 19.1875 8.296875 \r\nL 53.609375 8.296875 \r\nL 53.609375 0 \r\nL 7.328125 0 \r\nL 7.328125 8.296875 \r\nQ 12.9375 14.109375 22.625 23.890625 \r\nQ 32.328125 33.6875 34.8125 36.53125 \r\nQ 39.546875 41.84375 41.421875 45.53125 \r\nQ 43.3125 49.21875 43.3125 52.78125 \r\nQ 43.3125 58.59375 39.234375 62.25 \r\nQ 35.15625 65.921875 28.609375 65.921875 \r\nQ 23.96875 65.921875 18.8125 64.3125 \r\nQ 13.671875 62.703125 7.8125 59.421875 \r\nL 7.8125 69.390625 \r\nQ 13.765625 71.78125 18.9375 73 \r\nQ 24.125 74.21875 28.421875 74.21875 \r\nQ 39.75 74.21875 46.484375 68.546875 \r\nQ 53.21875 62.890625 53.21875 53.421875 \r\nQ 53.21875 48.921875 51.53125 44.890625 \r\nQ 49.859375 40.875 45.40625 35.40625 \r\nQ 44.1875 33.984375 37.640625 27.21875 \r\nQ 31.109375 20.453125 19.1875 8.296875 \r\nz\r\n\" id=\"DejaVuSans-50\"/>\r\n       </defs>\r\n       <use xlink:href=\"#DejaVuSans-50\"/>\r\n       <use x=\"63.623047\" xlink:href=\"#DejaVuSans-48\"/>\r\n      </g>\r\n     </g>\r\n    </g>\r\n    <g id=\"ytick_3\">\r\n     <g id=\"line2d_5\">\r\n      <g>\r\n       <use style=\"stroke:#000000;stroke-width:0.8;\" x=\"33.2875\" xlink:href=\"#mc60cd3e00e\" y=\"65.359219\"/>\r\n      </g>\r\n     </g>\r\n     <g id=\"text_5\">\r\n      <!-- 40 -->\r\n      <g transform=\"translate(13.5625 69.158437)scale(0.1 -0.1)\">\r\n       <defs>\r\n        <path d=\"M 37.796875 64.3125 \r\nL 12.890625 25.390625 \r\nL 37.796875 25.390625 \r\nz\r\nM 35.203125 72.90625 \r\nL 47.609375 72.90625 \r\nL 47.609375 25.390625 \r\nL 58.015625 25.390625 \r\nL 58.015625 17.1875 \r\nL 47.609375 17.1875 \r\nL 47.609375 0 \r\nL 37.796875 0 \r\nL 37.796875 17.1875 \r\nL 4.890625 17.1875 \r\nL 4.890625 26.703125 \r\nz\r\n\" id=\"DejaVuSans-52\"/>\r\n       </defs>\r\n       <use xlink:href=\"#DejaVuSans-52\"/>\r\n       <use x=\"63.623047\" xlink:href=\"#DejaVuSans-48\"/>\r\n      </g>\r\n     </g>\r\n    </g>\r\n    <g id=\"ytick_4\">\r\n     <g id=\"line2d_6\">\r\n      <g>\r\n       <use style=\"stroke:#000000;stroke-width:0.8;\" x=\"33.2875\" xlink:href=\"#mc60cd3e00e\" y=\"92.539219\"/>\r\n      </g>\r\n     </g>\r\n     <g id=\"text_6\">\r\n      <!-- 60 -->\r\n      <g transform=\"translate(13.5625 96.338437)scale(0.1 -0.1)\">\r\n       <defs>\r\n        <path d=\"M 33.015625 40.375 \r\nQ 26.375 40.375 22.484375 35.828125 \r\nQ 18.609375 31.296875 18.609375 23.390625 \r\nQ 18.609375 15.53125 22.484375 10.953125 \r\nQ 26.375 6.390625 33.015625 6.390625 \r\nQ 39.65625 6.390625 43.53125 10.953125 \r\nQ 47.40625 15.53125 47.40625 23.390625 \r\nQ 47.40625 31.296875 43.53125 35.828125 \r\nQ 39.65625 40.375 33.015625 40.375 \r\nz\r\nM 52.59375 71.296875 \r\nL 52.59375 62.3125 \r\nQ 48.875 64.0625 45.09375 64.984375 \r\nQ 41.3125 65.921875 37.59375 65.921875 \r\nQ 27.828125 65.921875 22.671875 59.328125 \r\nQ 17.53125 52.734375 16.796875 39.40625 \r\nQ 19.671875 43.65625 24.015625 45.921875 \r\nQ 28.375 48.1875 33.59375 48.1875 \r\nQ 44.578125 48.1875 50.953125 41.515625 \r\nQ 57.328125 34.859375 57.328125 23.390625 \r\nQ 57.328125 12.15625 50.6875 5.359375 \r\nQ 44.046875 -1.421875 33.015625 -1.421875 \r\nQ 20.359375 -1.421875 13.671875 8.265625 \r\nQ 6.984375 17.96875 6.984375 36.375 \r\nQ 6.984375 53.65625 15.1875 63.9375 \r\nQ 23.390625 74.21875 37.203125 74.21875 \r\nQ 40.921875 74.21875 44.703125 73.484375 \r\nQ 48.484375 72.75 52.59375 71.296875 \r\nz\r\n\" id=\"DejaVuSans-54\"/>\r\n       </defs>\r\n       <use xlink:href=\"#DejaVuSans-54\"/>\r\n       <use x=\"63.623047\" xlink:href=\"#DejaVuSans-48\"/>\r\n      </g>\r\n     </g>\r\n    </g>\r\n    <g id=\"ytick_5\">\r\n     <g id=\"line2d_7\">\r\n      <g>\r\n       <use style=\"stroke:#000000;stroke-width:0.8;\" x=\"33.2875\" xlink:href=\"#mc60cd3e00e\" y=\"119.719219\"/>\r\n      </g>\r\n     </g>\r\n     <g id=\"text_7\">\r\n      <!-- 80 -->\r\n      <g transform=\"translate(13.5625 123.518437)scale(0.1 -0.1)\">\r\n       <defs>\r\n        <path d=\"M 31.78125 34.625 \r\nQ 24.75 34.625 20.71875 30.859375 \r\nQ 16.703125 27.09375 16.703125 20.515625 \r\nQ 16.703125 13.921875 20.71875 10.15625 \r\nQ 24.75 6.390625 31.78125 6.390625 \r\nQ 38.8125 6.390625 42.859375 10.171875 \r\nQ 46.921875 13.96875 46.921875 20.515625 \r\nQ 46.921875 27.09375 42.890625 30.859375 \r\nQ 38.875 34.625 31.78125 34.625 \r\nz\r\nM 21.921875 38.8125 \r\nQ 15.578125 40.375 12.03125 44.71875 \r\nQ 8.5 49.078125 8.5 55.328125 \r\nQ 8.5 64.0625 14.71875 69.140625 \r\nQ 20.953125 74.21875 31.78125 74.21875 \r\nQ 42.671875 74.21875 48.875 69.140625 \r\nQ 55.078125 64.0625 55.078125 55.328125 \r\nQ 55.078125 49.078125 51.53125 44.71875 \r\nQ 48 40.375 41.703125 38.8125 \r\nQ 48.828125 37.15625 52.796875 32.3125 \r\nQ 56.78125 27.484375 56.78125 20.515625 \r\nQ 56.78125 9.90625 50.3125 4.234375 \r\nQ 43.84375 -1.421875 31.78125 -1.421875 \r\nQ 19.734375 -1.421875 13.25 4.234375 \r\nQ 6.78125 9.90625 6.78125 20.515625 \r\nQ 6.78125 27.484375 10.78125 32.3125 \r\nQ 14.796875 37.15625 21.921875 38.8125 \r\nz\r\nM 18.3125 54.390625 \r\nQ 18.3125 48.734375 21.84375 45.5625 \r\nQ 25.390625 42.390625 31.78125 42.390625 \r\nQ 38.140625 42.390625 41.71875 45.5625 \r\nQ 45.3125 48.734375 45.3125 54.390625 \r\nQ 45.3125 60.0625 41.71875 63.234375 \r\nQ 38.140625 66.40625 31.78125 66.40625 \r\nQ 25.390625 66.40625 21.84375 63.234375 \r\nQ 18.3125 60.0625 18.3125 54.390625 \r\nz\r\n\" id=\"DejaVuSans-56\"/>\r\n       </defs>\r\n       <use xlink:href=\"#DejaVuSans-56\"/>\r\n       <use x=\"63.623047\" xlink:href=\"#DejaVuSans-48\"/>\r\n      </g>\r\n     </g>\r\n    </g>\r\n    <g id=\"ytick_6\">\r\n     <g id=\"line2d_8\">\r\n      <g>\r\n       <use style=\"stroke:#000000;stroke-width:0.8;\" x=\"33.2875\" xlink:href=\"#mc60cd3e00e\" y=\"146.899219\"/>\r\n      </g>\r\n     </g>\r\n     <g id=\"text_8\">\r\n      <!-- 100 -->\r\n      <g transform=\"translate(7.2 150.698437)scale(0.1 -0.1)\">\r\n       <use xlink:href=\"#DejaVuSans-49\"/>\r\n       <use x=\"63.623047\" xlink:href=\"#DejaVuSans-48\"/>\r\n       <use x=\"127.246094\" xlink:href=\"#DejaVuSans-48\"/>\r\n      </g>\r\n     </g>\r\n    </g>\r\n    <g id=\"ytick_7\">\r\n     <g id=\"line2d_9\">\r\n      <g>\r\n       <use style=\"stroke:#000000;stroke-width:0.8;\" x=\"33.2875\" xlink:href=\"#mc60cd3e00e\" y=\"174.079219\"/>\r\n      </g>\r\n     </g>\r\n     <g id=\"text_9\">\r\n      <!-- 120 -->\r\n      <g transform=\"translate(7.2 177.878437)scale(0.1 -0.1)\">\r\n       <use xlink:href=\"#DejaVuSans-49\"/>\r\n       <use x=\"63.623047\" xlink:href=\"#DejaVuSans-50\"/>\r\n       <use x=\"127.246094\" xlink:href=\"#DejaVuSans-48\"/>\r\n      </g>\r\n     </g>\r\n    </g>\r\n    <g id=\"ytick_8\">\r\n     <g id=\"line2d_10\">\r\n      <g>\r\n       <use style=\"stroke:#000000;stroke-width:0.8;\" x=\"33.2875\" xlink:href=\"#mc60cd3e00e\" y=\"201.259219\"/>\r\n      </g>\r\n     </g>\r\n     <g id=\"text_10\">\r\n      <!-- 140 -->\r\n      <g transform=\"translate(7.2 205.058437)scale(0.1 -0.1)\">\r\n       <use xlink:href=\"#DejaVuSans-49\"/>\r\n       <use x=\"63.623047\" xlink:href=\"#DejaVuSans-52\"/>\r\n       <use x=\"127.246094\" xlink:href=\"#DejaVuSans-48\"/>\r\n      </g>\r\n     </g>\r\n    </g>\r\n   </g>\r\n   <g id=\"patch_3\">\r\n    <path d=\"M 33.2875 227.759719 \r\nL 33.2875 10.319719 \r\n\" style=\"fill:none;stroke:#000000;stroke-linecap:square;stroke-linejoin:miter;stroke-width:0.8;\"/>\r\n   </g>\r\n   <g id=\"patch_4\">\r\n    <path d=\"M 60.4675 227.759719 \r\nL 60.4675 10.319719 \r\n\" style=\"fill:none;stroke:#000000;stroke-linecap:square;stroke-linejoin:miter;stroke-width:0.8;\"/>\r\n   </g>\r\n   <g id=\"patch_5\">\r\n    <path d=\"M 33.2875 227.759719 \r\nL 60.4675 227.759719 \r\n\" style=\"fill:none;stroke:#000000;stroke-linecap:square;stroke-linejoin:miter;stroke-width:0.8;\"/>\r\n   </g>\r\n   <g id=\"patch_6\">\r\n    <path d=\"M 33.2875 10.319719 \r\nL 60.4675 10.319719 \r\n\" style=\"fill:none;stroke:#000000;stroke-linecap:square;stroke-linejoin:miter;stroke-width:0.8;\"/>\r\n   </g>\r\n  </g>\r\n </g>\r\n <defs>\r\n  <clipPath id=\"p0598bb2f32\">\r\n   <rect height=\"217.44\" width=\"27.18\" x=\"33.2875\" y=\"10.319719\"/>\r\n  </clipPath>\r\n </defs>\r\n</svg>\r\n",
      "image/png": "[encoded data removed]"
     },
     "metadata": {
      "needs_background": "light"
     }
    }
   ],
   "source": [
    "train_features, train_labels = next(iter(train_dataloader))\n",
    "print(f'Feature batch shape: {train_features.size()}')\n",
    "print(f'Labels batch shape: {train_labels.size()}')\n",
    "\n",
    "\n",
    "img = train_features[0].squeeze()\n",
    "plt.imshow(img, cmap='gray')\n",
    "plt.show()"
   ]
  }
 ]
}