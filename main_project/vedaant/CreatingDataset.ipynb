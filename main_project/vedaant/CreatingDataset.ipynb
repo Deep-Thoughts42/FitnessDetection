{
 "metadata": {
  "language_info": {
   "codemirror_mode": {
    "name": "ipython",
    "version": 3
   },
   "file_extension": ".py",
   "mimetype": "text/x-python",
   "name": "python",
   "nbconvert_exporter": "python",
   "pygments_lexer": "ipython3",
   "version": "3.7.4-final"
  },
  "orig_nbformat": 2,
  "kernelspec": {
   "name": "python3",
   "display_name": "Python 3.7.4 64-bit ('user': virtualenv)",
   "metadata": {
    "interpreter": {
     "hash": "df720b6b7f493795397d450855bc30f0e227928ddbc4b50de3827593ea757830"
    }
   }
  }
 },
 "nbformat": 4,
 "nbformat_minor": 2,
 "cells": [
  {
   "cell_type": "code",
   "execution_count": 4,
   "metadata": {},
   "outputs": [],
   "source": [
    "import torch\n",
    "import csv\n",
    "import os"
   ]
  },
  {
   "cell_type": "code",
   "execution_count": 8,
   "metadata": {},
   "outputs": [
    {
     "output_type": "execute_result",
     "data": {
      "text/plain": [
       "'d:\\\\PythonProjects\\\\ComputerVisionLearning'"
      ]
     },
     "metadata": {},
     "execution_count": 8
    }
   ],
   "source": [
    "\n",
    "os.chdir('d:\\PythonProjects\\ComputerVisionLearning')\n",
    "cur_dir = os.getcwd()\n",
    "\n",
    "cur_dir\n"
   ]
  },
  {
   "cell_type": "code",
   "execution_count": 14,
   "metadata": {},
   "outputs": [],
   "source": [
    "image_path = os.path.join(cur_dir, 'images', 'ProcessedSets')\n",
    "\n",
    "image_list = os.listdir(image_path)\n"
   ]
  },
  {
   "cell_type": "code",
   "execution_count": 15,
   "metadata": {},
   "outputs": [],
   "source": [
    "\n",
    "with open('main_project/vedaant/data_labels.csv', 'w', newline='') as file:\n",
    "    writer = csv.writer(file)\n",
    "    for image in image_list:\n",
    "        writer.writerow([image, 1])\n",
    "\n"
   ]
  },
  {
   "cell_type": "code",
   "execution_count": null,
   "metadata": {},
   "outputs": [],
   "source": []
  }
 ]
}