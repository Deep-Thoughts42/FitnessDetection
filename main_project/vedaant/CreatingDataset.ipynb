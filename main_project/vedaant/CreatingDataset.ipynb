{
 "metadata": {
  "language_info": {
   "codemirror_mode": {
    "name": "ipython",
    "version": 3
   },
   "file_extension": ".py",
   "mimetype": "text/x-python",
   "name": "python",
   "nbconvert_exporter": "python",
   "pygments_lexer": "ipython3",
   "version": "3.9.1-final"
  },
  "orig_nbformat": 2,
  "kernelspec": {
   "name": "python3",
   "display_name": "Python 3.9.1 64-bit ('venv')",
   "metadata": {
    "interpreter": {
     "hash": "b5db572c79d559b28741e606fac0af53cde90e61ea30a809b9f0b1c593485671"
    }
   }
  }
 },
 "nbformat": 4,
 "nbformat_minor": 2,
 "cells": [
  {
   "cell_type": "code",
   "execution_count": 13,
   "metadata": {},
   "outputs": [],
   "source": [
    "import torch\n",
    "import pandas as pd\n",
    "from torchvision.transforms import ToTensor, Lambda\n",
    "from torch.utils.data import Dataset\n",
    "from torchvision import datasets\n",
    "import torchvision\n",
    "import PIL\n",
    "from torchvision.io import read_image\n",
    "import matplotlib.pyplot as plt\n",
    "import csv\n",
    "import os\n",
    "\n",
    "%matplotlib inline"
   ]
  },
  {
   "cell_type": "code",
   "execution_count": 6,
   "metadata": {},
   "outputs": [],
   "source": [
    "\n",
    "os.chdir('d:\\PythonProjects\\ComputerVisionLearning')\n",
    "cur_dir = os.getcwd()\n",
    "\n",
    "# cur_dir\n"
   ]
  },
  {
   "cell_type": "code",
   "execution_count": 3,
   "metadata": {},
   "outputs": [],
   "source": [
    "# image_path = os.path.join(cur_dir, 'images', 'StackedSetsRaw')\n",
    "\n",
    "# image_list = os.listdir(image_path)\n"
   ]
  },
  {
   "cell_type": "code",
   "execution_count": 4,
   "metadata": {},
   "outputs": [],
   "source": [
    "\n",
    "# with open('main_project/vedaant/data_labels.csv', 'w', newline='') as file:\n",
    "#     writer = csv.writer(file)\n",
    "#     for image in image_list:\n",
    "#         writer.writerow([image, 1])\n",
    "\n"
   ]
  },
  {
   "cell_type": "code",
   "execution_count": 72,
   "metadata": {},
   "outputs": [],
   "source": [
    "class CustomDataset(Dataset):\n",
    "    def __init__(self, annotations_file, img_dir, transform=None, target_transform=None):\n",
    "        self.img_labels = pd.read_csv(annotations_file)\n",
    "        self.img_dir = img_dir\n",
    "        self.transform = transform\n",
    "        self.target_transform = target_transform\n",
    "    \n",
    "    def __len__(self):\n",
    "        return len(self.img_labels)\n",
    "    \n",
    "    def __getitem__(self, idx):\n",
    "        img_path = os.path.join(self.img_dir, self.img_labels.iloc[idx, 0])\n",
    "        image = torchvision.io.image.read_image(img_path)\n",
    "        label = self.img_labels.iloc[idx, 1]\n",
    "        if self.transform:\n",
    "            image = self.transform(image)\n",
    "        if self.target_transform:\n",
    "            label = self.target_transform(label)\n",
    "\n",
    "        sample = (image, label)\n",
    "        return sample \n",
    "\n",
    "\n"
   ]
  },
  {
   "cell_type": "code",
   "execution_count": 73,
   "metadata": {},
   "outputs": [
    {
     "output_type": "stream",
     "name": "stdout",
     "text": [
      "d:\\PythonProjects\\ComputerVisionLearning\n"
     ]
    }
   ],
   "source": [
    "print(cur_dir)\n",
    "annotations_file = os.path.join(cur_dir, \"main_project\", 'vedaant', 'data_labels.csv')\n",
    "img_dir = os.path.join(cur_dir, 'images', 'StackedSetsRaw')\n",
    "\n",
    "dataset = CustomDataset(annotations_file=annotations_file, img_dir=img_dir)\n"
   ]
  },
  {
   "cell_type": "code",
   "execution_count": 76,
   "metadata": {},
   "outputs": [
    {
     "output_type": "execute_result",
     "data": {
      "text/plain": [
       "(tensor([[[0, 0, 0,  ..., 0, 0, 0],\n",
       "          [0, 0, 0,  ..., 0, 0, 0],\n",
       "          [0, 0, 0,  ..., 0, 0, 0],\n",
       "          ...,\n",
       "          [0, 0, 0,  ..., 0, 0, 0],\n",
       "          [0, 0, 0,  ..., 0, 0, 0],\n",
       "          [0, 0, 0,  ..., 0, 0, 0]]], dtype=torch.uint8),\n",
       " 1)"
      ]
     },
     "metadata": {},
     "execution_count": 76
    }
   ],
   "source": [
    "test = dataset.__getitem__(0)\n",
    "\n",
    "dataset[0]\n",
    "\n",
    "def show_image(item):\n",
    "    image = item[0]\n",
    "    label = item[1]\n",
    "\n",
    "    print()\n",
    "\n",
    "\n",
    "\n",
    "\n",
    "# for line in test:\n",
    "#     if type(line) == torch.Tensor:\n",
    "#         img = line[0].squeeze()\n",
    "#         plt.imshow(img, cmap=\"gray\")\n",
    "#         plt.show()"
   ]
  }
 ]
}