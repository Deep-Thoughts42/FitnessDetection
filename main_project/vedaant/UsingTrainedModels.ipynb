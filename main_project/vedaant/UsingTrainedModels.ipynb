{
 "metadata": {
  "language_info": {
   "codemirror_mode": {
    "name": "ipython",
    "version": 3
   },
   "file_extension": ".py",
   "mimetype": "text/x-python",
   "name": "python",
   "nbconvert_exporter": "python",
   "pygments_lexer": "ipython3",
   "version": "3.9.1"
  },
  "orig_nbformat": 2,
  "kernelspec": {
   "name": "pythonjvsc74a57bd0b5db572c79d559b28741e606fac0af53cde90e61ea30a809b9f0b1c593485671",
   "display_name": "Python 3.9.1  ('venv': venv)"
  },
  "metadata": {
   "interpreter": {
    "hash": "b5db572c79d559b28741e606fac0af53cde90e61ea30a809b9f0b1c593485671"
   }
  }
 },
 "nbformat": 4,
 "nbformat_minor": 2,
 "cells": [
  {
   "cell_type": "code",
   "execution_count": 1,
   "metadata": {},
   "outputs": [],
   "source": [
    "import torch\n",
    "import torch.nn as nn\n",
    "import torch.optim as optim\n",
    "import torch.nn.functional as F\n",
    "\n",
    "import os"
   ]
  },
  {
   "source": [
    "### Loading Trained Model"
   ],
   "cell_type": "markdown",
   "metadata": {}
  },
  {
   "cell_type": "code",
   "execution_count": 2,
   "metadata": {},
   "outputs": [],
   "source": [
    "class Autoencoder(nn.Module):\n",
    "    def __init__(self):\n",
    "        super(Autoencoder, self).__init__()\n",
    "\n",
    "        # Encoder \n",
    "        self.enc1 = nn.Linear(in_features=3200, out_features=600)\n",
    "        self.enc2 = nn.Linear(in_features=600, out_features=200)\n",
    "        self.enc3 = nn.Linear(in_features=200, out_features=100)\n",
    "        self.enc4 = nn.Linear(in_features=100, out_features=32)\n",
    "        self.enc5 = nn.Linear(in_features=32, out_features=16)\n",
    "\n",
    "        # Decoder \n",
    "        self.dec1 = nn.Linear(in_features=16, out_features=32)\n",
    "        self.dec2 = nn.Linear(in_features=32, out_features=100)\n",
    "        self.dec3 = nn.Linear(in_features=100, out_features=200)\n",
    "        self.dec4 = nn.Linear(in_features=200, out_features=600)\n",
    "        self.dec5 = nn.Linear(in_features=600, out_features=3200)\n",
    "    \n",
    "    def forward(self, x):\n",
    "        x = F.relu(self.enc1(x))\n",
    "        x = F.relu(self.enc2(x))\n",
    "        x = F.relu(self.enc3(x))\n",
    "        x = F.relu(self.enc4(x))\n",
    "        x = F.relu(self.enc5(x))\n",
    "\n",
    "        x = F.relu(self.dec1(x))\n",
    "        x = F.relu(self.dec2(x))\n",
    "        x = F.relu(self.dec3(x))\n",
    "        x = F.relu(self.dec4(x))\n",
    "        x = F.relu(self.dec5(x))\n",
    "\n",
    "        return x\n",
    "\n"
   ]
  },
  {
   "cell_type": "code",
   "execution_count": 3,
   "metadata": {},
   "outputs": [
    {
     "output_type": "execute_result",
     "data": {
      "text/plain": [
       "Autoencoder(\n",
       "  (enc1): Linear(in_features=3200, out_features=600, bias=True)\n",
       "  (enc2): Linear(in_features=600, out_features=200, bias=True)\n",
       "  (enc3): Linear(in_features=200, out_features=100, bias=True)\n",
       "  (enc4): Linear(in_features=100, out_features=32, bias=True)\n",
       "  (enc5): Linear(in_features=32, out_features=16, bias=True)\n",
       "  (dec1): Linear(in_features=16, out_features=32, bias=True)\n",
       "  (dec2): Linear(in_features=32, out_features=100, bias=True)\n",
       "  (dec3): Linear(in_features=100, out_features=200, bias=True)\n",
       "  (dec4): Linear(in_features=200, out_features=600, bias=True)\n",
       "  (dec5): Linear(in_features=600, out_features=3200, bias=True)\n",
       ")"
      ]
     },
     "metadata": {},
     "execution_count": 3
    }
   ],
   "source": [
    "os.chdir('d:\\PythonProjects\\ComputerVisionLearning')\n",
    "\n",
    "\n",
    "model = torch.load('TrainedModel100Epochs.pth')\n",
    "model.eval()"
   ]
  },
  {
   "cell_type": "code",
   "execution_count": 4,
   "metadata": {},
   "outputs": [],
   "source": [
    "import os\n",
    "from torchvision.io import read_image\n",
    "\n",
    "os.chdir('d:\\PythonProjects\\ComputerVisionLearning')\n",
    "cur_dir = os.getcwd()\n",
    "\n",
    "# image_path = os.path.join(cur_dir, 'images', 'StackedSetsRaw')\n",
    "image_path = os.path.join(cur_dir, 'main_project', 'Udi', 'VedaantTempTestStacked')\n",
    "\n",
    "image_list = os.listdir(image_path)\n",
    "\n",
    "sets_length = len(image_list)\n",
    "\n",
    "new_list = [f'Set{i+1}.png' for i in range(sets_length)]\n",
    "\n",
    "\n"
   ]
  },
  {
   "cell_type": "code",
   "execution_count": 8,
   "metadata": {},
   "outputs": [
    {
     "output_type": "stream",
     "name": "stdout",
     "text": [
      "torch.Size([2, 160, 20])\n"
     ]
    }
   ],
   "source": [
    "import torchvision\n",
    "from torchvision.io.image import read_image\n",
    "import torch\n",
    "import matplotlib.pyplot as plt\n",
    "from torchvision.utils import save_image\n",
    "\n",
    "%matplotlib inline\n",
    "\n",
    "first_image = new_list[0]\n",
    "second_image = new_list[1]\n",
    "\n",
    "img1_path = os.path.join(image_path, first_image)\n",
    "img2_path = os.path.join(image_path, second_image)\n",
    " \n",
    "    \n",
    "img1 = torchvision.io.image.read_image(img1_path)\n",
    "img1[img1!=0] = 1\n",
    "img1 = img1.float()\n",
    "img2 = torchvision.io.image.read_image(img1_path)\n",
    "img2[img2!=0] = 1\n",
    "img2 = img2.float()\n",
    "\n",
    "\n",
    "\n",
    "\n",
    "\n",
    "new = torch.cat((img1, img2))\n",
    "\n",
    "print(new.size())\n",
    "\n",
    "\n",
    "img = new.view(2, 1, 160, 20)\n",
    "img = img.view(img.size(0), -1)\n",
    "output = model(img)\n",
    "\n",
    "outputs = output.view(output.size(0), 1, 160, 20).cpu().data\n",
    "save_image(outputs, os.path.join(f'ReconstructionTestNewDemo.png'))\n",
    "\n",
    "\n",
    "\n"
   ]
  },
  {
   "cell_type": "code",
   "execution_count": 7,
   "metadata": {},
   "outputs": [
    {
     "output_type": "stream",
     "name": "stdout",
     "text": [
      "torch.Size([160, 40])\nLoss is 0.10758445411920547\n"
     ]
    }
   ],
   "source": [
    "import torch.nn as nn\n",
    "\n",
    "criterion = nn.MSELoss()\n",
    "\n",
    "outputs = outputs.view(2, 3200)\n",
    "\n",
    "\n",
    "\n",
    "loss = criterion(img, outputs)\n",
    "\n",
    "print('Loss is ' + str(loss.item()))\n"
   ]
  },
  {
   "cell_type": "code",
   "execution_count": 10,
   "metadata": {},
   "outputs": [
    {
     "output_type": "stream",
     "name": "stdout",
     "text": [
      "torch.Size([160, 40])\nLoss is 0.1272086501121521\n"
     ]
    }
   ],
   "source": [
    "test_blank = torch.zeros(160, 40, dtype=torch.float)\n",
    "print(test_blank.size())\n",
    "\n",
    "test_blank = test_blank.view(2, 1, 160, 20)\n",
    "test_blank = test_blank.view(img.size(0), -1)\n",
    "\n",
    "blank_output = model(test_blank)\n",
    "\n",
    "blank_output = blank_output.view(blank_output.size(0), 1, 160, 20).cpu().data\n",
    "\n",
    "blank_output = blank_output.view(2, 3200)\n",
    "\n",
    "blank_loss = criterion(test_blank, blank_output)\n",
    "\n",
    "print('Loss is ' + str(blank_loss.item()))"
   ]
  }
 ]
}